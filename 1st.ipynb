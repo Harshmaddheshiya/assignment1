{
 "cells": [
  {
   "cell_type": "code",
   "execution_count": 2,
   "id": "01c5591e-2d67-42e2-8ae0-b7d49f3cc471",
   "metadata": {},
   "outputs": [
    {
     "data": {
      "text/plain": [
       "'Q1-Explain with an example each when to use a for loop and a while loop.'"
      ]
     },
     "execution_count": 2,
     "metadata": {},
     "output_type": "execute_result"
    }
   ],
   "source": [
    "\"\"\"Q1-Explain with an example each when to use a for loop and a while loop.\"\"\""
   ]
  },
  {
   "cell_type": "code",
   "execution_count": 4,
   "id": "3203a7a3-29db-44eb-bc2d-5b5fcc434b6b",
   "metadata": {},
   "outputs": [
    {
     "name": "stdout",
     "output_type": "stream",
     "text": [
      "Sum: 15\n"
     ]
    }
   ],
   "source": [
    "'''When to use a for loop:\n",
    "A for loop is typically used when you know in advance the number of iterations you want to perform.\n",
    "It is well-suited for iterating over sequences like arrays, lists, or strings.\n",
    "Example: Calculating the sum of elements in an array.'''\n",
    "\n",
    "numbers = [1, 2, 3, 4, 5]\n",
    "sum_result = 0\n",
    "\n",
    "for num in numbers:\n",
    "    sum_result += num\n",
    "\n",
    "print(\"Sum:\", sum_result) \n"
   ]
  },
  {
   "cell_type": "code",
   "execution_count": 5,
   "id": "950973d0-9dde-421b-a706-a26c3e9bef59",
   "metadata": {},
   "outputs": [
    {
     "name": "stdout",
     "output_type": "stream",
     "text": [
      "First power of 2 greater than 100: 128\n"
     ]
    }
   ],
   "source": [
    "'''When to use a while loop:\n",
    "A while loop is used when the number of iterations is not known beforehand, and the loop should continue until a specific condition is met. The condition is evaluated at the beginning of each iteration.\n",
    "Example: Finding the first power of 2 greater than a given number.'''\n",
    "\n",
    "num = 1\n",
    "power_of_2 = 1\n",
    "\n",
    "while power_of_2 <= 100:\n",
    "    power_of_2 = 2 ** num\n",
    "    num += 1\n",
    "\n",
    "print(\"First power of 2 greater than 100:\", power_of_2) \n"
   ]
  },
  {
   "cell_type": "code",
   "execution_count": 6,
   "id": "1b119de9-69c3-41a5-943f-58d34140a1f9",
   "metadata": {},
   "outputs": [
    {
     "name": "stdout",
     "output_type": "stream",
     "text": [
      "Using while loop:\n",
      "Sum: 55\n",
      "Product: 3628800\n"
     ]
    }
   ],
   "source": [
    "\"\"\"Q2.  Write a python program to print the sum and product of the first 10 natural numbers using for \n",
    "and while loop.\"\"\"\n",
    "num = 1\n",
    "sum_result = 0\n",
    "product_result = 1\n",
    "\n",
    "while num <= 10:\n",
    "    sum_result += num\n",
    "    product_result *= num\n",
    "    num += 1\n",
    "\n",
    "print(\"Using while loop:\")\n",
    "print(\"Sum:\", sum_result)\n",
    "print(\"Product:\", product_result)\n",
    "\n"
   ]
  },
  {
   "cell_type": "code",
   "execution_count": 10,
   "id": "6f11a065-b339-4a9c-9e66-25ba88701496",
   "metadata": {},
   "outputs": [
    {
     "name": "stdin",
     "output_type": "stream",
     "text": [
      "enter your units consumed 310\n"
     ]
    },
    {
     "name": "stdout",
     "output_type": "stream",
     "text": [
      " Total electricity bill: Rs  2250.0\n"
     ]
    }
   ],
   "source": [
    "\"\"\"The per-unit charges in rupees are as follows: For the first 100 units, the user will be charged Rs. 4.5 per\n",
    "unit, for the next 100 units, the user will be charged Rs. 6 per unit, and for the next 100 units, the user will\n",
    "be charged Rs. 10 per unit, After 300 units and above the user will be charged Rs. 20 per unit.\n",
    "You are required to take the units of electricity consumed in a month from the user as input.\n",
    "Your program must pass this test case: when the unit of electricity consumed by the user in a month is\n",
    "310, the total electricity bill should be 2250.\"\"\"\n",
    "\n",
    "def calculate_electricity_bill (units):\n",
    "    total_bill=0\n",
    "    if units<=100:\n",
    "        total_bill = units*4.5\n",
    "    elif units<=200:\n",
    "        total_bill = 100*4.5+(unts-100)*6\n",
    "    elif units<=300:\n",
    "        total_bill = 100*4.5+100*6+(units-200)*10\n",
    "    elif units >300:\n",
    "        total_bill = 100*4.5+100*6+100*10+(units-300)*20\n",
    "\n",
    "    return total_bill\n",
    "unit_consumed = int(input('enter your units consumed'))\n",
    "bill_amount = calculate_electricity_bill(unit_consumed)\n",
    "print(\" Total electricity bill: Rs \",bill_amount)"
   ]
  },
  {
   "cell_type": "code",
   "execution_count": 11,
   "id": "af01cc01-0c13-4dd8-a9e0-a26078bbbb0f",
   "metadata": {},
   "outputs": [
    {
     "name": "stdout",
     "output_type": "stream",
     "text": [
      "Numbers whose cubes are divisible by 4 or 5: [2, 4, 5, 6, 8, 10, 12, 14, 15, 16, 18, 20, 22, 24, 25, 26, 28, 30, 32, 34, 35, 36, 38, 40, 42, 44, 45, 46, 48, 50, 52, 54, 55, 56, 58, 60, 62, 64, 65, 66, 68, 70, 72, 74, 75, 76, 78, 80, 82, 84, 85, 86, 88, 90, 92, 94, 95, 96, 98, 100]\n"
     ]
    }
   ],
   "source": [
    "\"\"\"Q4. Create a list of numbers from 1 to 100. Use for loop and while loop to calculate the cube of each \n",
    "number and if the cube of that number is divisible by 4 or 5 then append that number in a list and print \n",
    "that list\"\"\"\n",
    "\n",
    "numbers = list(range(1, 101))\n",
    "cubes_divisible_by_4_or_5 = []\n",
    "\n",
    "for num in numbers:\n",
    "    cube = num ** 3\n",
    "    if cube % 4 == 0 or cube % 5 == 0:\n",
    "        cubes_divisible_by_4_or_5.append(num)\n",
    "\n",
    "print(\"Numbers whose cubes are divisible by 4 or 5:\", cubes_divisible_by_4_or_5)\n"
   ]
  },
  {
   "cell_type": "code",
   "execution_count": 13,
   "id": "d6fd5645-95d6-4100-98c3-ec86c1cbc184",
   "metadata": {},
   "outputs": [
    {
     "data": {
      "text/plain": [
       "'Q5.  Write a program to filter count vowels in the below-given string.\\nstring = \"I want to become a data scientist'"
      ]
     },
     "execution_count": 13,
     "metadata": {},
     "output_type": "execute_result"
    }
   ],
   "source": [
    "\"\"\"Q5.  Write a program to filter count vowels in the below-given string.\n",
    "string = \"I want to become a data scientist\"\"\"\n",
    "string = \"I want to become a data scientist\"\n",
    "\n",
    "\n",
    "def count_vowels(s):\n",
    "    s = s.lower()\n",
    "    vowel_count = 0\n",
    "    vowels = {'a', 'e', 'i', 'o', 'u'}\n",
    "    for char in s:\n",
    "        if char in vowels:\n",
    "            vowel_count += 1\n",
    "            \n",
    "    return vowel_count\n",
    "\n",
    "# Call the functionvowel_count = count_vowels(string)\n",
    "print(\"Number of vowels in the string:\", vowel_count)\n"
   ]
  },
  {
   "cell_type": "code",
   "execution_count": null,
   "id": "c3bfdc34-a48a-478e-88d5-3e8ada2a3b4c",
   "metadata": {},
   "outputs": [],
   "source": []
  }
 ],
 "metadata": {
  "kernelspec": {
   "display_name": "Python 3 (ipykernel)",
   "language": "python",
   "name": "python3"
  },
  "language_info": {
   "codemirror_mode": {
    "name": "ipython",
    "version": 3
   },
   "file_extension": ".py",
   "mimetype": "text/x-python",
   "name": "python",
   "nbconvert_exporter": "python",
   "pygments_lexer": "ipython3",
   "version": "3.10.8"
  }
 },
 "nbformat": 4,
 "nbformat_minor": 5
}
